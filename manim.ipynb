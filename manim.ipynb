{
 "cells": [
  {
   "cell_type": "code",
   "execution_count": 1,
   "metadata": {},
   "outputs": [],
   "source": [
    "import subprocess"
   ]
  },
  {
   "cell_type": "code",
   "execution_count": 3,
   "metadata": {},
   "outputs": [],
   "source": [
    "compiler = \"C:\\\\msys64\\\\mingw64\\\\bin\\\\g++.exe\""
   ]
  },
  {
   "cell_type": "code",
   "execution_count": 5,
   "metadata": {},
   "outputs": [
    {
     "data": {
      "text/plain": [
       "CompletedProcess(args=['C:\\\\msys64\\\\mingw64\\\\bin\\\\g++.exe', 'algo.cpp', '-o', 'algo.exe'], returncode=0)"
      ]
     },
     "execution_count": 5,
     "metadata": {},
     "output_type": "execute_result"
    }
   ],
   "source": [
    "subprocess.run([compiler, \"algo.cpp\", \"-o\", \"algo.exe\"])"
   ]
  },
  {
   "cell_type": "code",
   "execution_count": 12,
   "metadata": {},
   "outputs": [],
   "source": [
    "application = \"algo.exe\""
   ]
  },
  {
   "cell_type": "code",
   "execution_count": 13,
   "metadata": {},
   "outputs": [
    {
     "data": {
      "text/plain": [
       "CompletedProcess(args=['algo.exe'], returncode=3221225785)"
      ]
     },
     "execution_count": 13,
     "metadata": {},
     "output_type": "execute_result"
    }
   ],
   "source": [
    "subprocess.run([application])"
   ]
  },
  {
   "cell_type": "code",
   "execution_count": 3,
   "metadata": {},
   "outputs": [],
   "source": [
    "from manim import *\n",
    "import numpy as np\n",
    "\n",
    "\n",
    "class GraphScene(Scene):\n",
    "    def construct(self):\n",
    "        # User input adjacency matrix\n",
    "        adjacency_matrix = np.array([[0, 1, 1], [1, 0, 0], [1, 0, 0]])\n",
    "\n",
    "        # Get the number of vertices\n",
    "        num_vertices = len(adjacency_matrix)\n",
    "\n",
    "        # Create the vertices\n",
    "        vertices = [Dot() for _ in range(num_vertices)]\n",
    "\n",
    "        # Position the vertices in a circle\n",
    "        radius = 2\n",
    "        angle = TAU / num_vertices\n",
    "        for i, vertex in enumerate(vertices):\n",
    "            vertex.move_to(\n",
    "                radius * np.array([np.cos(i * angle), np.sin(i * angle), 0]))\n",
    "\n",
    "        # Create edges and arrow animations based on the adjacency matrix\n",
    "        edges = []\n",
    "        arrow_anims = []\n",
    "        for i in range(num_vertices):\n",
    "            for j in range(i + 1, num_vertices):\n",
    "                if adjacency_matrix[i][j] == 1:\n",
    "                    edge = Line(vertices[i].get_center(),\n",
    "                                vertices[j].get_center())\n",
    "                    edges.append(edge)\n",
    "\n",
    "                    arrow = Arrow(vertices[i].get_center(\n",
    "                    ), vertices[j].get_center(), buff=0.2)\n",
    "                    arrow_anim = Create(arrow)\n",
    "                    arrow_anims.append(arrow_anim)\n",
    "\n",
    "        # Add the vertices and edges to the scene\n",
    "        self.add(*vertices)\n",
    "\n",
    "        # Animate the edges\n",
    "        for edge in edges:\n",
    "            self.play(Create(edge))\n",
    "\n",
    "        # Animate the arrows\n",
    "        self.play(*arrow_anims)\n",
    "\n",
    "        self.wait()"
   ]
  },
  {
   "cell_type": "code",
   "execution_count": 1,
   "metadata": {},
   "outputs": [
    {
     "ename": "NameError",
     "evalue": "name 'Scene' is not defined",
     "output_type": "error",
     "traceback": [
      "\u001b[1;31m---------------------------------------------------------------------------\u001b[0m",
      "\u001b[1;31mNameError\u001b[0m                                 Traceback (most recent call last)",
      "Cell \u001b[1;32mIn[1], line 1\u001b[0m\n\u001b[1;32m----> 1\u001b[0m \u001b[39mclass\u001b[39;00m \u001b[39mAnimatingMethods\u001b[39;00m(Scene):\n\u001b[0;32m      2\u001b[0m     \u001b[39mdef\u001b[39;00m \u001b[39mconstruct\u001b[39m(\u001b[39mself\u001b[39m):\n\u001b[0;32m      3\u001b[0m         grid \u001b[39m=\u001b[39m OldTex(\u001b[39mr\u001b[39m\u001b[39m\"\u001b[39m\u001b[39m\\\u001b[39m\u001b[39mpi\u001b[39m\u001b[39m\"\u001b[39m)\u001b[39m.\u001b[39mget_grid(\u001b[39m10\u001b[39m, \u001b[39m10\u001b[39m, height\u001b[39m=\u001b[39m\u001b[39m4\u001b[39m)\n",
      "\u001b[1;31mNameError\u001b[0m: name 'Scene' is not defined"
     ]
    }
   ],
   "source": [
    "class AnimatingMethods(Scene):\n",
    "    def construct(self):\n",
    "        grid = OldTex(r\"\\pi\").get_grid(10, 10, height=4)\n",
    "        self.add(grid)\n",
    "\n",
    "        # You can animate the application of mobject methods with the\n",
    "        # \".animate\" syntax:\n",
    "        self.play(grid.animate.shift(LEFT))\n",
    "\n",
    "        # Alternatively, you can use the older syntax by passing the\n",
    "        # method and then the arguments to the scene's \"play\" function:\n",
    "        self.play(grid.shift, LEFT)\n",
    "\n",
    "        # Both of those will interpolate between the mobject's initial\n",
    "        # state and whatever happens when you apply that method.\n",
    "        # For this example, calling grid.shift(LEFT) would shift the\n",
    "        # grid one unit to the left, but both of the previous calls to\n",
    "        # \"self.play\" animate that motion.\n",
    "\n",
    "        # The same applies for any method, including those setting colors.\n",
    "        self.play(grid.animate.set_color(YELLOW))\n",
    "        self.wait()\n",
    "        self.play(grid.animate.set_submobject_colors_by_gradient(BLUE, GREEN))\n",
    "        self.wait()\n",
    "        self.play(grid.animate.set_height(TAU - MED_SMALL_BUFF))\n",
    "        self.wait()\n",
    "\n",
    "        # The method Mobject.apply_complex_function lets you apply arbitrary\n",
    "        # complex functions, treating the points defining the mobject as\n",
    "        # complex numbers.\n",
    "        self.play(grid.animate.apply_complex_function(np.exp), run_time=5)\n",
    "        self.wait()\n",
    "\n",
    "        # Even more generally, you could apply Mobject.apply_function,\n",
    "        # which takes in functions form R^3 to R^3\n",
    "        self.play(\n",
    "            grid.animate.apply_function(\n",
    "                lambda p: [\n",
    "                    p[0] + 0.5 * math.sin(p[1]),\n",
    "                    p[1] + 0.5 * math.sin(p[0]),\n",
    "                    p[2]\n",
    "                ]\n",
    "            ),\n",
    "            run_time=5,\n",
    "        )\n",
    "        self.wait()"
   ]
  },
  {
   "cell_type": "code",
   "execution_count": 2,
   "metadata": {},
   "outputs": [
    {
     "name": "stderr",
     "output_type": "stream",
     "text": [
      "c:\\Python311\\Lib\\site-packages\\pyglet\\libs\\win32\\__init__.py:326: UserWarning: Could not set COM MTA mode. Unexpected behavior may occur.\n",
      "  warnings.warn(\"Could not set COM MTA mode. Unexpected behavior may occur.\")\n",
      "c:\\Python311\\Lib\\site-packages\\pydub\\utils.py:170: RuntimeWarning: Couldn't find ffmpeg or avconv - defaulting to ffmpeg, but may not work\n",
      "  warn(\"Couldn't find ffmpeg or avconv - defaulting to ffmpeg, but may not work\", RuntimeWarning)\n"
     ]
    }
   ],
   "source": []
  },
  {
   "cell_type": "code",
   "execution_count": null,
   "metadata": {},
   "outputs": [],
   "source": []
  }
 ],
 "metadata": {
  "kernelspec": {
   "display_name": "Python 3",
   "language": "python",
   "name": "python3"
  },
  "language_info": {
   "codemirror_mode": {
    "name": "ipython",
    "version": 3
   },
   "file_extension": ".py",
   "mimetype": "text/x-python",
   "name": "python",
   "nbconvert_exporter": "python",
   "pygments_lexer": "ipython3",
   "version": "3.11.0"
  },
  "orig_nbformat": 4
 },
 "nbformat": 4,
 "nbformat_minor": 2
}
